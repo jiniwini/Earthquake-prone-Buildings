{
 "cells": [
  {
   "cell_type": "code",
   "execution_count": 7,
   "id": "cfc63930",
   "metadata": {},
   "outputs": [],
   "source": [
    "import json\n",
    "import pandas as pd\n",
    "from IPython.core.interactiveshell import InteractiveShell\n",
    "InteractiveShell.ast_node_interactivity=\"all\""
   ]
  },
  {
   "cell_type": "code",
   "execution_count": 8,
   "id": "1d8df49d",
   "metadata": {},
   "outputs": [],
   "source": [
    "df_gyeongnam = pd.read_json('data/geojson/gyeongnam.json')\n",
    "df_gyeongbuk = pd.read_json('data/geojson/gyeongbuk.json')"
   ]
  },
  {
   "cell_type": "code",
   "execution_count": 9,
   "id": "6317f61e",
   "metadata": {
    "scrolled": false
   },
   "outputs": [
    {
     "data": {
      "text/html": [
       "<div>\n",
       "<style scoped>\n",
       "    .dataframe tbody tr th:only-of-type {\n",
       "        vertical-align: middle;\n",
       "    }\n",
       "\n",
       "    .dataframe tbody tr th {\n",
       "        vertical-align: top;\n",
       "    }\n",
       "\n",
       "    .dataframe thead th {\n",
       "        text-align: right;\n",
       "    }\n",
       "</style>\n",
       "<table border=\"1\" class=\"dataframe\">\n",
       "  <thead>\n",
       "    <tr style=\"text-align: right;\">\n",
       "      <th></th>\n",
       "      <th>type</th>\n",
       "      <th>features</th>\n",
       "    </tr>\n",
       "  </thead>\n",
       "  <tbody>\n",
       "    <tr>\n",
       "      <th>0</th>\n",
       "      <td>FeatureCollection</td>\n",
       "      <td>{'type': 'Feature', 'geometry': {'type': 'Poly...</td>\n",
       "    </tr>\n",
       "    <tr>\n",
       "      <th>1</th>\n",
       "      <td>FeatureCollection</td>\n",
       "      <td>{'type': 'Feature', 'geometry': {'type': 'Poly...</td>\n",
       "    </tr>\n",
       "    <tr>\n",
       "      <th>2</th>\n",
       "      <td>FeatureCollection</td>\n",
       "      <td>{'type': 'Feature', 'geometry': {'type': 'Poly...</td>\n",
       "    </tr>\n",
       "  </tbody>\n",
       "</table>\n",
       "</div>"
      ],
      "text/plain": [
       "                type                                           features\n",
       "0  FeatureCollection  {'type': 'Feature', 'geometry': {'type': 'Poly...\n",
       "1  FeatureCollection  {'type': 'Feature', 'geometry': {'type': 'Poly...\n",
       "2  FeatureCollection  {'type': 'Feature', 'geometry': {'type': 'Poly..."
      ]
     },
     "execution_count": 9,
     "metadata": {},
     "output_type": "execute_result"
    }
   ],
   "source": [
    "df_gyeongnam.head(3)"
   ]
  },
  {
   "cell_type": "code",
   "execution_count": 10,
   "id": "6c4a6867",
   "metadata": {
    "scrolled": true
   },
   "outputs": [
    {
     "data": {
      "text/html": [
       "<div>\n",
       "<style scoped>\n",
       "    .dataframe tbody tr th:only-of-type {\n",
       "        vertical-align: middle;\n",
       "    }\n",
       "\n",
       "    .dataframe tbody tr th {\n",
       "        vertical-align: top;\n",
       "    }\n",
       "\n",
       "    .dataframe thead th {\n",
       "        text-align: right;\n",
       "    }\n",
       "</style>\n",
       "<table border=\"1\" class=\"dataframe\">\n",
       "  <thead>\n",
       "    <tr style=\"text-align: right;\">\n",
       "      <th></th>\n",
       "      <th>type</th>\n",
       "      <th>features</th>\n",
       "    </tr>\n",
       "  </thead>\n",
       "  <tbody>\n",
       "    <tr>\n",
       "      <th>0</th>\n",
       "      <td>FeatureCollection</td>\n",
       "      <td>{'type': 'Feature', 'geometry': {'type': 'Poly...</td>\n",
       "    </tr>\n",
       "    <tr>\n",
       "      <th>1</th>\n",
       "      <td>FeatureCollection</td>\n",
       "      <td>{'type': 'Feature', 'geometry': {'type': 'Poly...</td>\n",
       "    </tr>\n",
       "    <tr>\n",
       "      <th>2</th>\n",
       "      <td>FeatureCollection</td>\n",
       "      <td>{'type': 'Feature', 'geometry': {'type': 'Poly...</td>\n",
       "    </tr>\n",
       "  </tbody>\n",
       "</table>\n",
       "</div>"
      ],
      "text/plain": [
       "                type                                           features\n",
       "0  FeatureCollection  {'type': 'Feature', 'geometry': {'type': 'Poly...\n",
       "1  FeatureCollection  {'type': 'Feature', 'geometry': {'type': 'Poly...\n",
       "2  FeatureCollection  {'type': 'Feature', 'geometry': {'type': 'Poly..."
      ]
     },
     "execution_count": 10,
     "metadata": {},
     "output_type": "execute_result"
    }
   ],
   "source": [
    "df_gyeongbuk.head(3)"
   ]
  },
  {
   "cell_type": "code",
   "execution_count": 11,
   "id": "769b09c6",
   "metadata": {},
   "outputs": [],
   "source": [
    "def func1(df):\n",
    "    return df['properties']['COL_ADM_SE']"
   ]
  },
  {
   "cell_type": "markdown",
   "id": "e1e4b173",
   "metadata": {},
   "source": [
    "dic = {'경주시': '47130','영덕군': '47770','포항시':'47110','김해시':'48250', '밀양시':'48270','창원시':'48120','양산시':'48330'}"
   ]
  },
  {
   "cell_type": "code",
   "execution_count": 12,
   "id": "40cb6d38",
   "metadata": {
    "scrolled": false
   },
   "outputs": [],
   "source": [
    "gyeongnam_geo = df_gyeongnam[(df_gyeongnam['features'].apply(func1)=='48250') | (df_gyeongnam['features'].apply(func1)=='48270') | (df_gyeongnam['features'].apply(func1)=='48120')|(df_gyeongnam['features'].apply(func1)=='48330')]"
   ]
  },
  {
   "cell_type": "code",
   "execution_count": 13,
   "id": "dbff377c",
   "metadata": {},
   "outputs": [],
   "source": [
    "gyeongbuk_geo = df_gyeongbuk[(df_gyeongbuk['features'].apply(func1)=='47130') | (df_gyeongbuk['features'].apply(func1)=='47770') | (df_gyeongbuk['features'].apply(func1)=='47110')]"
   ]
  },
  {
   "cell_type": "code",
   "execution_count": 23,
   "id": "b0ec5df1",
   "metadata": {},
   "outputs": [],
   "source": [
    "gyeongju_geo = df_gyeongbuk[df_gyeongbuk['features'].apply(func1)=='47130']\n",
    "yeongdeok_geo = df_gyeongbuk[df_gyeongbuk['features'].apply(func1)=='47770']\n",
    "pohang_geo = df_gyeongbuk[df_gyeongbuk['features'].apply(func1)=='47110']\n",
    "\n",
    "\n",
    "\n",
    "gimhae_geo = df_gyeongnam[df_gyeongnam['features'].apply(func1)=='48250']\n",
    "miryang_geo = df_gyeongnam[df_gyeongnam['features'].apply(func1)=='48270']\n",
    "yangsan_geo = df_gyeongnam[df_gyeongnam['features'].apply(func1)=='48330']\n",
    "changwon_geo = df_gyeongnam[df_gyeongnam['features'].apply(func1)=='48120']\n"
   ]
  },
  {
   "cell_type": "code",
   "execution_count": 24,
   "id": "093a25c3",
   "metadata": {},
   "outputs": [],
   "source": [
    "# (df_geo['features'].apply(func1)).unique()"
   ]
  },
  {
   "cell_type": "code",
   "execution_count": 12,
   "id": "7aaa0b08",
   "metadata": {},
   "outputs": [
    {
     "data": {
      "text/plain": [
       "array(['48250', '48330', '48270', '48120'], dtype=object)"
      ]
     },
     "execution_count": 12,
     "metadata": {},
     "output_type": "execute_result"
    }
   ],
   "source": [
    "(gyeongnam_geo['features'].apply(func1)).unique()"
   ]
  },
  {
   "cell_type": "code",
   "execution_count": 13,
   "id": "1fc00dfc",
   "metadata": {},
   "outputs": [
    {
     "data": {
      "text/plain": [
       "array(['47770', '47130', '47110'], dtype=object)"
      ]
     },
     "execution_count": 13,
     "metadata": {},
     "output_type": "execute_result"
    }
   ],
   "source": [
    "(gyeongbuk_geo['features'].apply(func1)).unique()"
   ]
  },
  {
   "cell_type": "code",
   "execution_count": 26,
   "id": "b9bbaa9c",
   "metadata": {},
   "outputs": [],
   "source": [
    "gyeongju_geo = gyeongbuk_geo.features"
   ]
  },
  {
   "cell_type": "code",
   "execution_count": 27,
   "id": "0f804a94",
   "metadata": {},
   "outputs": [],
   "source": [
    "gyeongju_geo.to_json('data/geojson/gyeongju.json',orient='values')"
   ]
  },
  {
   "cell_type": "code",
   "execution_count": 28,
   "id": "e76d6e41",
   "metadata": {},
   "outputs": [],
   "source": [
    "yeongdeok_geo = gyeongbuk_geo.features\n",
    "yeongdeok_geo.to_json('data/geojson/yeongdeok.json',orient='values')"
   ]
  },
  {
   "cell_type": "code",
   "execution_count": 29,
   "id": "2f6504a0",
   "metadata": {},
   "outputs": [],
   "source": [
    "pohang_geo = gyeongbuk_geo.features\n",
    "pohang_geo.to_json('data/geojson/pohang.json',orient='values')"
   ]
  },
  {
   "cell_type": "code",
   "execution_count": 30,
   "id": "25358a19",
   "metadata": {},
   "outputs": [],
   "source": [
    "gimhae_geo = gimhae_geo.features\n",
    "gimhae_geo.to_json('data/geojson/gimhae.json',orient='values')"
   ]
  },
  {
   "cell_type": "code",
   "execution_count": 31,
   "id": "ca7e8b3a",
   "metadata": {},
   "outputs": [],
   "source": [
    "miryang_geo = miryang_geo.features\n",
    "miryang_geo.to_json('data/geojson/miryang.json',orient='values')"
   ]
  },
  {
   "cell_type": "code",
   "execution_count": 32,
   "id": "6b43cafb",
   "metadata": {},
   "outputs": [],
   "source": [
    "changwon_geo = changwon_geo.features\n",
    "changwon_geo.to_json('data/geojson/changwon.json',orient='values')"
   ]
  },
  {
   "cell_type": "code",
   "execution_count": 33,
   "id": "d196b577",
   "metadata": {},
   "outputs": [],
   "source": [
    "yangsan_geo = yangsan_geo.features\n",
    "yangsan_geo.to_json('data/geojson/yangsan.json',orient='values')"
   ]
  },
  {
   "cell_type": "code",
   "execution_count": null,
   "id": "7ce2e7b9",
   "metadata": {},
   "outputs": [],
   "source": []
  },
  {
   "cell_type": "code",
   "execution_count": null,
   "id": "00f5c0b5",
   "metadata": {},
   "outputs": [],
   "source": [
    "# gyeongnam_geo.to_json('data/geojson/경남최종.json',orient='values')"
   ]
  },
  {
   "cell_type": "code",
   "execution_count": null,
   "id": "de42cfb7",
   "metadata": {},
   "outputs": [],
   "source": [
    "# gyeongbuk_geo = gyeongbuk_geo.features"
   ]
  },
  {
   "cell_type": "code",
   "execution_count": null,
   "id": "3f410f23",
   "metadata": {},
   "outputs": [],
   "source": [
    "# gyeongbuk_geo.to_json('data/geojson/경북최종.json',orient='values')"
   ]
  },
  {
   "cell_type": "code",
   "execution_count": null,
   "id": "7658cf4d",
   "metadata": {},
   "outputs": [],
   "source": [
    "# with open ('data/geojson/gyeongnam.json',encoding = 'utf-8') as f:\n",
    "#     geo = json.loads(f.read())"
   ]
  },
  {
   "cell_type": "code",
   "execution_count": null,
   "id": "f4506cfc",
   "metadata": {},
   "outputs": [],
   "source": []
  }
 ],
 "metadata": {
  "kernelspec": {
   "display_name": "Python 3 (ipykernel)",
   "language": "python",
   "name": "python3"
  },
  "language_info": {
   "codemirror_mode": {
    "name": "ipython",
    "version": 3
   },
   "file_extension": ".py",
   "mimetype": "text/x-python",
   "name": "python",
   "nbconvert_exporter": "python",
   "pygments_lexer": "ipython3",
   "version": "3.9.13"
  }
 },
 "nbformat": 4,
 "nbformat_minor": 5
}
